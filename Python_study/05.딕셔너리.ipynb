{
 "cells": [
  {
   "cell_type": "markdown",
   "id": "69852532",
   "metadata": {},
   "source": [
    "# 딕셔너리(Dictionary)\n",
    ": 순서가 정해있지 않고 key를 통해 value를 얻는다."
   ]
  },
  {
   "cell_type": "code",
   "execution_count": 1,
   "id": "ee460596",
   "metadata": {},
   "outputs": [],
   "source": [
    "# Dictionary 생성하기\n",
    "# {key : value}\n",
    "dic = {'name':'petty', 'phone':'010-1234-5678', 'birth':'1231'}"
   ]
  },
  {
   "cell_type": "code",
   "execution_count": 2,
   "id": "670a6131",
   "metadata": {},
   "outputs": [
    {
     "data": {
      "text/plain": [
       "'petty'"
      ]
     },
     "execution_count": 2,
     "metadata": {},
     "output_type": "execute_result"
    }
   ],
   "source": [
    "dic['name'] # 결과는 'petty'"
   ]
  },
  {
   "cell_type": "code",
   "execution_count": 3,
   "id": "3f6ecabe",
   "metadata": {},
   "outputs": [
    {
     "data": {
      "text/plain": [
       "'1231'"
      ]
     },
     "execution_count": 3,
     "metadata": {},
     "output_type": "execute_result"
    }
   ],
   "source": [
    "dic['birth'] # 결과는 '1231'"
   ]
  },
  {
   "cell_type": "code",
   "execution_count": 8,
   "id": "1bd0b72a",
   "metadata": {},
   "outputs": [
    {
     "name": "stdout",
     "output_type": "stream",
     "text": [
      "[1, 2, 3]\n",
      "1\n"
     ]
    }
   ],
   "source": [
    "# value는 리스트도 가능\n",
    "dic1 = {'a':[1,2,3]}\n",
    "print(dic1['a']) # 결과는 [1, 2, 3]\n",
    "print(dic1['a'][0]) # 결과는 1"
   ]
  },
  {
   "cell_type": "code",
   "execution_count": 13,
   "id": "b06bc395",
   "metadata": {},
   "outputs": [
    {
     "name": "stdout",
     "output_type": "stream",
     "text": [
      "{'a': [1, 2, 3], 'b': 'bbb'}\n"
     ]
    }
   ],
   "source": [
    "dic1['b'] = 'bbb'\n",
    "dic['name'] = 'petty'\n",
    "print(dic1) # 결과는 {'a': [1, 2, 3], 'b': 'bbb'}"
   ]
  },
  {
   "cell_type": "code",
   "execution_count": 11,
   "id": "1976a543",
   "metadata": {},
   "outputs": [
    {
     "data": {
      "text/plain": [
       "{'a': [1, 2, 3]}"
      ]
     },
     "execution_count": 11,
     "metadata": {},
     "output_type": "execute_result"
    }
   ],
   "source": [
    "del dic1['b']\n",
    "dic1 # 결과는 {'a': [1, 2, 3]}"
   ]
  },
  {
   "cell_type": "markdown",
   "id": "dc142765",
   "metadata": {},
   "source": [
    "## 딕셔너리 관련 함수"
   ]
  },
  {
   "cell_type": "code",
   "execution_count": 14,
   "id": "897c7213",
   "metadata": {},
   "outputs": [
    {
     "data": {
      "text/plain": [
       "dict_keys(['name', 'phone', 'birth'])"
      ]
     },
     "execution_count": 14,
     "metadata": {},
     "output_type": "execute_result"
    }
   ],
   "source": [
    "dic = {'name':'petty', 'phone':'010-1234-5678', 'birth':'1231'}\n",
    "dic.keys() # 결과는 dict_keys(['name', 'phone', 'birth'])"
   ]
  },
  {
   "cell_type": "code",
   "execution_count": 15,
   "id": "dceb2c64",
   "metadata": {},
   "outputs": [
    {
     "name": "stdout",
     "output_type": "stream",
     "text": [
      "name\n",
      "phone\n",
      "birth\n"
     ]
    }
   ],
   "source": [
    "# Key값만 추출\n",
    "for k in dic.keys():\n",
    "    print(k)\n",
    "\n",
    "    # name\n",
    "    # phone\n",
    "    # birth"
   ]
  },
  {
   "cell_type": "code",
   "execution_count": 17,
   "id": "327c21dc",
   "metadata": {},
   "outputs": [
    {
     "data": {
      "text/plain": [
       "'name'"
      ]
     },
     "execution_count": 17,
     "metadata": {},
     "output_type": "execute_result"
    }
   ],
   "source": [
    "# dic.keys를 리스트로 변환\n",
    "dic_list = list(dic.keys()) # 결과는 ['name', 'phone', 'birth']\n",
    "dic_list[0] # 결과는 'name'"
   ]
  },
  {
   "cell_type": "code",
   "execution_count": 18,
   "id": "8af425a2",
   "metadata": {},
   "outputs": [
    {
     "data": {
      "text/plain": [
       "dict_values(['petty', '010-1234-5678', '1231'])"
      ]
     },
     "execution_count": 18,
     "metadata": {},
     "output_type": "execute_result"
    }
   ],
   "source": [
    "# Value만 추출\n",
    "dic.values() # 결과는 dict_values(['petty', '010-1234-5678', '1231'])"
   ]
  },
  {
   "cell_type": "code",
   "execution_count": 19,
   "id": "a9cb628e",
   "metadata": {},
   "outputs": [
    {
     "data": {
      "text/plain": [
       "'petty'"
      ]
     },
     "execution_count": 19,
     "metadata": {},
     "output_type": "execute_result"
    }
   ],
   "source": [
    "# dic.values를 리스트로 변환\n",
    "dic_value = list(dic.values())\n",
    "dic_value[0] # 결과는 'petty'"
   ]
  },
  {
   "cell_type": "code",
   "execution_count": 20,
   "id": "4d3300dc",
   "metadata": {},
   "outputs": [
    {
     "data": {
      "text/plain": [
       "dict_items([('name', 'petty'), ('phone', '010-1234-5678'), ('birth', '1231')])"
      ]
     },
     "execution_count": 20,
     "metadata": {},
     "output_type": "execute_result"
    }
   ],
   "source": [
    "# key, Value를 함께 얻기\n",
    "dic.items() # 결과는 dict_items([('name', 'petty'), ('phone', '010-1234-5678'), ('birth', '1231')])"
   ]
  },
  {
   "cell_type": "code",
   "execution_count": 21,
   "id": "c319a6a7",
   "metadata": {},
   "outputs": [
    {
     "name": "stdout",
     "output_type": "stream",
     "text": [
      "name : petty\n",
      "phone : 010-1234-5678\n",
      "birth : 1231\n"
     ]
    }
   ],
   "source": [
    "# n차원 배열 같은 느낌\n",
    "for i in dic.items():\n",
    "    print(i[0], \":\", i[1])\n",
    "# name : petty\n",
    "# phone : 010-1234-5678\n",
    "# birth : 1231"
   ]
  },
  {
   "cell_type": "code",
   "execution_count": 36,
   "id": "677a2eea",
   "metadata": {},
   "outputs": [
    {
     "name": "stdout",
     "output_type": "stream",
     "text": [
      "[('name', 'petty'), ('phone', '010-1234-5678'), ('birth', '1231')]\n",
      "name : petty\n"
     ]
    }
   ],
   "source": [
    "# dic.items를 list로 변환하기\n",
    "# name : petty\n",
    "dic_items_list = list(dic.items())\n",
    "print(dic_items_list) # 결과는 [('name', 'petty'), ('phone', '010-1234-5678'), ('birth', '1231')]\n",
    "\n",
    "\n",
    "print(dic_items_list[0][0], \":\", dic_items_list[0][1]) # name : petty"
   ]
  },
  {
   "cell_type": "code",
   "execution_count": 38,
   "id": "7a2f1c58",
   "metadata": {},
   "outputs": [
    {
     "data": {
      "text/plain": [
       "{}"
      ]
     },
     "execution_count": 38,
     "metadata": {},
     "output_type": "execute_result"
    }
   ],
   "source": [
    "# 지우기\n",
    "dic.clear()\n",
    "dic # 결과는 {}"
   ]
  },
  {
   "cell_type": "code",
   "execution_count": 40,
   "id": "05ae4e6e",
   "metadata": {},
   "outputs": [
    {
     "name": "stdout",
     "output_type": "stream",
     "text": [
      "True\n",
      "False\n"
     ]
    }
   ],
   "source": [
    "dic = {'name':'petty', 'phone':'010-1234-5678', 'birth':'1231'}\n",
    "print('name' in dic) # 결과는 True\n",
    "print('mail' in dic) # 결과는 False"
   ]
  },
  {
   "cell_type": "code",
   "execution_count": null,
   "id": "aa120e38",
   "metadata": {},
   "outputs": [],
   "source": []
  }
 ],
 "metadata": {
  "kernelspec": {
   "display_name": "Python 3",
   "language": "python",
   "name": "python3"
  },
  "language_info": {
   "codemirror_mode": {
    "name": "ipython",
    "version": 3
   },
   "file_extension": ".py",
   "mimetype": "text/x-python",
   "name": "python",
   "nbconvert_exporter": "python",
   "pygments_lexer": "ipython3",
   "version": "3.8.8"
  }
 },
 "nbformat": 4,
 "nbformat_minor": 5
}
