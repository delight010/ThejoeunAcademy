{
 "cells": [
  {
   "cell_type": "markdown",
   "id": "ebb24dca",
   "metadata": {},
   "source": [
    "## range 함수\n",
    "range(시작숫자, 끝숫자, 증가값)"
   ]
  },
  {
   "cell_type": "code",
   "execution_count": 1,
   "id": "11ed9636",
   "metadata": {},
   "outputs": [
    {
     "data": {
      "text/plain": [
       "range(1, 11)"
      ]
     },
     "execution_count": 1,
     "metadata": {},
     "output_type": "execute_result"
    }
   ],
   "source": [
    "var = range(1, 11)\n",
    "var # 결과는 range(1, 11)"
   ]
  },
  {
   "cell_type": "code",
   "execution_count": 2,
   "id": "c6d2ff1c",
   "metadata": {},
   "outputs": [
    {
     "data": {
      "text/plain": [
       "[1, 2, 3, 4, 5, 6, 7, 8, 9, 10]"
      ]
     },
     "execution_count": 2,
     "metadata": {},
     "output_type": "execute_result"
    }
   ],
   "source": [
    "# range의 범위를 list로 출력 ** 중요 **\n",
    "\n",
    "list(range(1, 11))\n",
    "# 결과는 [1, 2, 3, 4, 5, 6, 7, 8, 9, 10]"
   ]
  },
  {
   "cell_type": "code",
   "execution_count": 3,
   "id": "35bb8a92",
   "metadata": {},
   "outputs": [
    {
     "data": {
      "text/plain": [
       "[0, 2, 4, 6, 8, 10]"
      ]
     },
     "execution_count": 3,
     "metadata": {},
     "output_type": "execute_result"
    }
   ],
   "source": [
    "list(range(0, 11, 2)) \n",
    "# 결과는 [0, 2, 4, 6, 8, 10]"
   ]
  },
  {
   "cell_type": "code",
   "execution_count": 5,
   "id": "a77c3055",
   "metadata": {},
   "outputs": [
    {
     "data": {
      "text/plain": [
       "[10, 8, 6, 4, 2]"
      ]
     },
     "execution_count": 5,
     "metadata": {},
     "output_type": "execute_result"
    }
   ],
   "source": [
    "list(range(10, 0, -2))\n",
    "# 결과는 [10, 8, 6, 4, 2]"
   ]
  },
  {
   "cell_type": "code",
   "execution_count": 7,
   "id": "6a6a55d3",
   "metadata": {},
   "outputs": [
    {
     "data": {
      "text/plain": [
       "[]"
      ]
     },
     "execution_count": 7,
     "metadata": {},
     "output_type": "execute_result"
    }
   ],
   "source": [
    "list(range(0, 10, -2))\n",
    "# 결과는 []"
   ]
  },
  {
   "cell_type": "code",
   "execution_count": 8,
   "id": "a3b5176a",
   "metadata": {},
   "outputs": [
    {
     "data": {
      "text/plain": [
       "10"
      ]
     },
     "execution_count": 8,
     "metadata": {},
     "output_type": "execute_result"
    }
   ],
   "source": [
    "var = range(1, 11)\n",
    "var[9]\n",
    "# 결과는 10"
   ]
  },
  {
   "cell_type": "code",
   "execution_count": 11,
   "id": "42fc1b93",
   "metadata": {},
   "outputs": [
    {
     "data": {
      "text/plain": [
       "range(8, 10)"
      ]
     },
     "execution_count": 11,
     "metadata": {},
     "output_type": "execute_result"
    }
   ],
   "source": [
    "var[7:9]\n",
    "# 결과는 range(8, 10)"
   ]
  },
  {
   "cell_type": "code",
   "execution_count": 10,
   "id": "a062d23b",
   "metadata": {},
   "outputs": [
    {
     "data": {
      "text/plain": [
       "range"
      ]
     },
     "execution_count": 10,
     "metadata": {},
     "output_type": "execute_result"
    }
   ],
   "source": [
    "type(var)\n",
    "# 결과는 range"
   ]
  },
  {
   "cell_type": "markdown",
   "id": "742888bc",
   "metadata": {},
   "source": [
    "## for문에 range함수 사용하기"
   ]
  },
  {
   "cell_type": "code",
   "execution_count": 12,
   "id": "7a609ee8",
   "metadata": {},
   "outputs": [
    {
     "name": "stdout",
     "output_type": "stream",
     "text": [
      "1\n",
      "2\n",
      "3\n",
      "4\n",
      "5\n",
      "6\n",
      "7\n",
      "8\n",
      "9\n",
      "10\n"
     ]
    }
   ],
   "source": [
    "for i in range(1, 11):\n",
    "    print(i)\n",
    "    # 결과는 1 2 3 4 5 6 7 8 9 10 11"
   ]
  },
  {
   "cell_type": "code",
   "execution_count": 13,
   "id": "54177172",
   "metadata": {},
   "outputs": [
    {
     "name": "stdout",
     "output_type": "stream",
     "text": [
      "0\n",
      "1\n",
      "2\n",
      "3\n",
      "4\n"
     ]
    }
   ],
   "source": [
    "for i in range(5):\n",
    "    print(i)\n",
    "    # 결과는 0 1 2 3 4"
   ]
  },
  {
   "cell_type": "code",
   "execution_count": 14,
   "id": "d8e10133",
   "metadata": {},
   "outputs": [
    {
     "name": "stdout",
     "output_type": "stream",
     "text": [
      "1\n",
      "3\n",
      "5\n",
      "7\n",
      "9\n"
     ]
    }
   ],
   "source": [
    "# 1부터 10까지의 수 중 홀수만 출력\n",
    "for i in range(1, 11, 2):\n",
    "    print(i)\n",
    "    # 결과는 1 3 5 7 9"
   ]
  },
  {
   "cell_type": "code",
   "execution_count": 17,
   "id": "cf229682",
   "metadata": {},
   "outputs": [
    {
     "name": "stdout",
     "output_type": "stream",
     "text": [
      "9 X 1 =  9\n",
      "9 X 2 = 18\n",
      "9 X 3 = 27\n",
      "9 X 4 = 36\n",
      "9 X 5 = 45\n",
      "9 X 6 = 54\n",
      "9 X 7 = 63\n",
      "9 X 8 = 72\n",
      "9 X 9 = 81\n"
     ]
    }
   ],
   "source": [
    "# 구구단 9단 출력\n",
    "num = 9\n",
    "for i in range(1, 10, 1):\n",
    "    print(num, 'X' , i , '=', '%2d'%(num*i) )\n",
    "    \n",
    "# 결과는\n",
    "# 9 X 1 = 9\n",
    "# 9 X 2 = 18\n",
    "# 9 X 3 = 27\n",
    "# 9 X 4 = 36\n",
    "# 9 X 5 = 45\n",
    "# 9 X 6 = 54\n",
    "# 9 X 7 = 63\n",
    "# 9 X 8 = 72\n",
    "# 9 X 9 = 81"
   ]
  },
  {
   "cell_type": "code",
   "execution_count": 18,
   "id": "b671fc40",
   "metadata": {},
   "outputs": [
    {
     "name": "stdout",
     "output_type": "stream",
     "text": [
      "aaa bbb\n"
     ]
    }
   ],
   "source": [
    "print('aaa', end = ' ')\n",
    "print('bbb')\n",
    "# 결과는 aaa bbb"
   ]
  },
  {
   "cell_type": "code",
   "execution_count": 29,
   "id": "4c639172",
   "metadata": {},
   "outputs": [
    {
     "name": "stdout",
     "output_type": "stream",
     "text": [
      " 1  2  3  4  5  6  7  8  9 \n",
      "\n",
      " 2  4  6  8 10 12 14 16 18 \n",
      "\n",
      " 3  6  9 12 15 18 21 24 27 \n",
      "\n",
      " 4  8 12 16 20 24 28 32 36 \n",
      "\n",
      " 5 10 15 20 25 30 35 40 45 \n",
      "\n",
      " 6 12 18 24 30 36 42 48 54 \n",
      "\n",
      " 7 14 21 28 35 42 49 56 63 \n",
      "\n",
      " 8 16 24 32 40 48 56 64 72 \n",
      "\n",
      " 9 18 27 36 45 54 63 72 81 "
     ]
    }
   ],
   "source": [
    "# 구구단 결과만 출력하기(1, 2단)\n",
    "num = 1\n",
    "for i in range(1, 10, 1):\n",
    "    if i > 1:\n",
    "        print('\\n')\n",
    "    for j in range(1, 10, 1):\n",
    "            print('%2d'%(i*j), end = ' ')"
   ]
  },
  {
   "cell_type": "code",
   "execution_count": 31,
   "id": "784fd275",
   "metadata": {},
   "outputs": [
    {
     "name": "stdout",
     "output_type": "stream",
     "text": [
      "one\n",
      "two\n",
      "three\n"
     ]
    }
   ],
   "source": [
    "test_list = ['one', 'two', 'three']\n",
    "# print(test_list)\n",
    "\n",
    "for i in test_list:\n",
    "    print(i)\n",
    "    #결과는 \n",
    "    #one \n",
    "    #two \n",
    "    #three"
   ]
  },
  {
   "cell_type": "code",
   "execution_count": 34,
   "id": "65e5b557",
   "metadata": {},
   "outputs": [
    {
     "name": "stdout",
     "output_type": "stream",
     "text": [
      "80.75\n"
     ]
    }
   ],
   "source": [
    "# list로 평균 구하기\n",
    "scores = [78, 85, 95, 65]\n",
    "\n",
    "total = 0\n",
    "for score in scores:\n",
    "    total += score\n",
    "    \n",
    "print(total / len(scores)) # 결과는 80.75"
   ]
  },
  {
   "cell_type": "markdown",
   "id": "13ac55cb",
   "metadata": {},
   "source": [
    "## for문에 Tuple 사용하기"
   ]
  },
  {
   "cell_type": "code",
   "execution_count": 37,
   "id": "04efd00e",
   "metadata": {},
   "outputs": [
    {
     "name": "stdout",
     "output_type": "stream",
     "text": [
      "1 : 2\n",
      "3 : 4\n",
      "5 : 6\n"
     ]
    }
   ],
   "source": [
    "# 튜플은 값을 변경할 수 없음\n",
    "\n",
    "var = [(1,2), (3,4), (5,6)]\n",
    "\n",
    "for first, last in var:\n",
    "    print(first, \":\", last)\n",
    "    # 결과는\n",
    "    # 1 : 2\n",
    "    # 3 : 4\n",
    "    # 5 : 6"
   ]
  },
  {
   "cell_type": "code",
   "execution_count": 39,
   "id": "35af2db0",
   "metadata": {},
   "outputs": [
    {
     "name": "stdout",
     "output_type": "stream",
     "text": [
      "21\n"
     ]
    }
   ],
   "source": [
    "sum1 = 0\n",
    "for first, last in var:\n",
    "    sum1 += first + last\n",
    "    \n",
    "print(sum1) # 결과는 21"
   ]
  },
  {
   "cell_type": "markdown",
   "id": "2f2a2563",
   "metadata": {},
   "source": [
    "총 5명의 학생이 시험을 보았는 데, 시험점수가 60점이상이면 합격이고,   \n",
    "그렇지 않으면 불합격이다.   \n",
    "합격, 불합격 결과 보여주기"
   ]
  },
  {
   "cell_type": "code",
   "execution_count": 64,
   "id": "a0d7508e",
   "metadata": {},
   "outputs": [
    {
     "name": "stdout",
     "output_type": "stream",
     "text": [
      "1의 학생은 합격 입닌다.\n",
      "2의 학생은 불합격 입니다.\n",
      "3의 학생은 합격 입닌다.\n",
      "4의 학생은 불합격 입니다.\n",
      "5의 학생은 합격 입닌다.\n"
     ]
    }
   ],
   "source": [
    "scores = [90, 25, 67, 45, 80]\n",
    "\n",
    "for number in range(len(scores)):\n",
    "    if scores[number] < 60:\n",
    "        print(\"%d의 학생은 불합격 입니다.\"%(number+1))\n",
    "    else:\n",
    "        print(\"%d의 학생은 합격 입닌다.\"%(number+1))"
   ]
  },
  {
   "cell_type": "code",
   "execution_count": 79,
   "id": "9350618c",
   "metadata": {},
   "outputs": [
    {
     "name": "stdout",
     "output_type": "stream",
     "text": [
      "1의 학생은 점수가 90이어서 합격 입니다.\n",
      "2의 학생은 점수가 25이어서 불합격 입니다.\n",
      "2의 학생은 점수가 67이어서 합격 입니다.\n",
      "3의 학생은 점수가 45이어서 불합격 입니다.\n",
      "3의 학생은 점수가 80이어서 합격 입니다.\n"
     ]
    }
   ],
   "source": [
    "scores = [90, 25, 67, 45, 80]\n",
    "number = 1\n",
    "\n",
    "for score in scores:\n",
    "    if score < 60:\n",
    "        print(\"%d의 학생은 점수가 %d이어서 불합격 입니다.\"%(number,score))\n",
    "    else:\n",
    "        print(\"%d의 학생은 점수가 %d이어서 합격 입니다.\"%(number,score))\n",
    "        number += 1"
   ]
  },
  {
   "cell_type": "markdown",
   "id": "bb05413c",
   "metadata": {},
   "source": [
    "학생들 점수의 평균을 구하여 평균점수 기준으로 합격, 불합격 보여주기"
   ]
  },
  {
   "cell_type": "code",
   "execution_count": 92,
   "id": "3d27c89d",
   "metadata": {},
   "outputs": [
    {
     "name": "stdout",
     "output_type": "stream",
     "text": [
      "학급의 평균 점수는 61.40 입니다.\n",
      "\n",
      "1의 학생은 점수가 90이어서 합격입니다.\n",
      "2의 학생은 점수가 25이어서 불합격 입니다.\n",
      "2의 학생은 점수가 67이어서 합격입니다.\n",
      "3의 학생은 점수가 45이어서 불합격 입니다.\n",
      "3의 학생은 점수가 80이어서 합격입니다.\n"
     ]
    }
   ],
   "source": [
    "import numpy as np\n",
    "scores = [90, 25, 67, 45, 80]\n",
    "\n",
    "number = 1   # 학생번호\n",
    "avg = 0.0    # 평균 점수\n",
    "total = 0    # 학생들의 점수 총점\n",
    "\n",
    "avg = np.mean(scores) # 결과는 61.4\n",
    "total = np.sum(scores) # 결과는 307\n",
    "\n",
    "\n",
    "print('학급의 평균 점수는 %0.2f 입니다.\\n'%(avg))\n",
    "for score in scores:\n",
    "    if score < avg:\n",
    "        print('%d의 학생은 점수가 %d이어서 불합격 입니다.'%(number,score))\n",
    "    else:\n",
    "        print('%d의 학생은 점수가 %d이어서 합격입니다.'%(number,score))\n",
    "        number +=1"
   ]
  },
  {
   "cell_type": "code",
   "execution_count": 95,
   "id": "97f93572",
   "metadata": {},
   "outputs": [
    {
     "name": "stdout",
     "output_type": "stream",
     "text": [
      "[5, 10, 15, 20]\n"
     ]
    }
   ],
   "source": [
    "var01 = [1,2,3,4]\n",
    "var02 = []\n",
    "\n",
    "for i in var01:\n",
    "    var02.append(i * 5)\n",
    "    \n",
    "print(var02)\n",
    "# 결과는 [5, 10, 15, 20]"
   ]
  },
  {
   "cell_type": "markdown",
   "id": "c5080d30",
   "metadata": {},
   "source": [
    "## 파이썬의 listed for문"
   ]
  },
  {
   "cell_type": "code",
   "execution_count": 96,
   "id": "cb99400f",
   "metadata": {},
   "outputs": [
    {
     "data": {
      "text/plain": [
       "[5, 10, 15, 20]"
      ]
     },
     "execution_count": 96,
     "metadata": {},
     "output_type": "execute_result"
    }
   ],
   "source": [
    "var01 = [1,2,3,4]\n",
    "var02 = []\n",
    "\n",
    "var02 = [i * 5 for i in var01] # 데이터값연산하여 넣기(1줄)\n",
    "var02\n",
    "# 결과는 [5, 10, 15, 20]"
   ]
  },
  {
   "cell_type": "code",
   "execution_count": 108,
   "id": "80006064",
   "metadata": {},
   "outputs": [
    {
     "data": {
      "text/plain": [
       "[10, 20]"
      ]
     },
     "execution_count": 108,
     "metadata": {},
     "output_type": "execute_result"
    }
   ],
   "source": [
    "# 위의 소스에서 짝수인 경우에만 5를 곱하는 리스트 만들기\n",
    "var01 = [1,2,3,4]\n",
    "var02 = []\n",
    "\n",
    "var02 = [i * 5 for i in var01 if i % 2 == 0] # 데이터값연산하여 넣기(1줄)\n",
    "var02\n",
    "# 결과는 [10, 20]"
   ]
  },
  {
   "cell_type": "code",
   "execution_count": 115,
   "id": "2052424a",
   "metadata": {},
   "outputs": [
    {
     "name": "stdout",
     "output_type": "stream",
     "text": [
      "[2, 4, 6, 8, 10, 12, 14, 16, 18, 3, 6, 9, 12, 15, 18, 21, 24, 27, 4, 8, 12, 16, 20, 24, 28, 32, 36, 5, 10, 15, 20, 25, 30, 35, 40, 45, 6, 12, 18, 24, 30, 36, 42, 48, 54, 7, 14, 21, 28, 35, 42, 49, 56, 63, 8, 16, 24, 32, 40, 48, 56, 64, 72, 9, 18, 27, 36, 45, 54, 63, 72, 81]\n"
     ]
    }
   ],
   "source": [
    "# 구구단 결과만 list로 만들기(2단 ~ 9단) (1줄로)\n",
    "result = [i * j for i in range(2, 10) for j in range(1, 10)]\n",
    "print(result)\n",
    "# 결과는 [2, 4, 6, 8, 10, 12, 14, 16, 18, 3, 6, 9, 12, 15, 18, 21, 24, 27, 4, 8, 12, 16, 20, 24, 28, 32, 36, 5, 10, 15, 20, 25, 30, 35, 40, 45, 6, 12, 18, 24, 30, 36, 42, 48, 54, 7, 14, 21, 28, 35, 42, 49, 56, 63, 8, 16, 24, 32, 40, 48, 56, 64, 72, 9, 18, 27, 36, 45, 54, 63, 72, 81]"
   ]
  },
  {
   "cell_type": "code",
   "execution_count": 121,
   "id": "5c4a7ad2",
   "metadata": {},
   "outputs": [
    {
     "name": "stdout",
     "output_type": "stream",
     "text": [
      "[90, 67, 80]\n",
      "합격한 학생들의 평균 점수는 79.00입니다\n"
     ]
    }
   ],
   "source": [
    "# 60점 이상의 학생점수만 List로 만들어 평균 구하기\n",
    "scores = [90, 25, 67, 45, 80]\n",
    "passList = [i for i in scores if i >= 60]\n",
    "print(passList)\n",
    "\n",
    "print(\"합격한 학생들의 평균 점수는 %.2f입니다\"%np.mean(passList))\n",
    "\n",
    "# 결과\n",
    "# [90, 67, 80]\n",
    "# 합격한 학생들의 평균 점수는 79.00입니다"
   ]
  },
  {
   "cell_type": "code",
   "execution_count": null,
   "id": "ae21718c",
   "metadata": {},
   "outputs": [],
   "source": []
  }
 ],
 "metadata": {
  "kernelspec": {
   "display_name": "Python 3",
   "language": "python",
   "name": "python3"
  },
  "language_info": {
   "codemirror_mode": {
    "name": "ipython",
    "version": 3
   },
   "file_extension": ".py",
   "mimetype": "text/x-python",
   "name": "python",
   "nbconvert_exporter": "python",
   "pygments_lexer": "ipython3",
   "version": "3.8.8"
  }
 },
 "nbformat": 4,
 "nbformat_minor": 5
}
