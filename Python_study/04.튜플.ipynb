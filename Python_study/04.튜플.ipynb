{
 "cells": [
  {
   "cell_type": "markdown",
   "id": "07bed7fe",
   "metadata": {},
   "source": [
    "# 튜플(Tuple) 자료형\n",
    ": Tuple은 다음과 같은 점을 제외하고 리스트와 거의 비슷하다.\n",
    "- (,)로 사용\n",
    "- 리스트는 그 값을 생성, 삭제, 수정이 가능하지만 튜플은 값을 바꿀 수 없다."
   ]
  },
  {
   "cell_type": "code",
   "execution_count": 6,
   "id": "e72f0d9e",
   "metadata": {},
   "outputs": [
    {
     "name": "stdout",
     "output_type": "stream",
     "text": [
      "()\n",
      "1\n",
      "(1, 2, 3)\n",
      "(1, 2, 3)\n",
      "('a', 'b', ('ab', 'cd'))\n"
     ]
    }
   ],
   "source": [
    "# 튜플의 선언\n",
    "var01 = ()\n",
    "var02 = (1)\n",
    "var03 = (1,2,3)\n",
    "var04 = 1,2,3\n",
    "var05 = ('a','b',('ab','cd'))\n",
    "print(var01) # 결과는 ()\n",
    "print(var02) # 결과는 1\n",
    "print(var03) # 결과는 (1, 2, 3)\n",
    "print(var04) # 결과는 (1, 2, 3)\n",
    "print(var05) # 결과는 ('a', 'b', ('ab', 'cd'))"
   ]
  },
  {
   "cell_type": "code",
   "execution_count": 7,
   "id": "7c13065c",
   "metadata": {},
   "outputs": [
    {
     "name": "stdout",
     "output_type": "stream",
     "text": [
      "1\n"
     ]
    }
   ],
   "source": [
    "# 튜플의 인덱싱\n",
    "print(var03[0]) # 결과는 1"
   ]
  },
  {
   "cell_type": "code",
   "execution_count": 11,
   "id": "4cccd097",
   "metadata": {},
   "outputs": [],
   "source": [
    "a, b = (1, 2)\n",
    "# 튜플은 여러 개의 리턴 값을 가질 수 있다."
   ]
  },
  {
   "cell_type": "code",
   "execution_count": 10,
   "id": "7a617f7b",
   "metadata": {},
   "outputs": [
    {
     "name": "stdout",
     "output_type": "stream",
     "text": [
      "1\n",
      "2\n"
     ]
    }
   ],
   "source": [
    "print(a) # 결과는 1\n",
    "print(b) # 결과는 2"
   ]
  },
  {
   "cell_type": "code",
   "execution_count": null,
   "id": "83ce0fb2",
   "metadata": {},
   "outputs": [],
   "source": []
  }
 ],
 "metadata": {
  "kernelspec": {
   "display_name": "Python 3",
   "language": "python",
   "name": "python3"
  },
  "language_info": {
   "codemirror_mode": {
    "name": "ipython",
    "version": 3
   },
   "file_extension": ".py",
   "mimetype": "text/x-python",
   "name": "python",
   "nbconvert_exporter": "python",
   "pygments_lexer": "ipython3",
   "version": "3.8.8"
  }
 },
 "nbformat": 4,
 "nbformat_minor": 5
}
