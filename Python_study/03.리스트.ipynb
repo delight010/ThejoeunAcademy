{
 "cells": [
  {
   "cell_type": "markdown",
   "id": "0b485e89",
   "metadata": {},
   "source": [
    "# 리스트(list) 자료형\n",
    "- 숫자나 문자들의 모음을 하나의 자료형으로 표현하기 위해 사용\n",
    "- format : listName = (e1, e2, e3 . . . )"
   ]
  },
  {
   "cell_type": "markdown",
   "id": "a7fddf13",
   "metadata": {},
   "source": [
    "## 리스트 자료형 선언"
   ]
  },
  {
   "cell_type": "code",
   "execution_count": 4,
   "id": "81400af1",
   "metadata": {},
   "outputs": [],
   "source": [
    "var01 = []\n",
    "var02 = [1,2,3]\n",
    "var03 = ['I', 'have', \"a\", \"dream\"]\n",
    "var04 = [1, 2, 'dream', 'True']\n",
    "var05 = [1, 2, ['Dream', 'true']]"
   ]
  },
  {
   "cell_type": "markdown",
   "id": "92fbd7e7",
   "metadata": {},
   "source": [
    "## 리스트의 indexing과 Slicing"
   ]
  },
  {
   "cell_type": "code",
   "execution_count": 9,
   "id": "63ccf3b4",
   "metadata": {},
   "outputs": [
    {
     "name": "stdout",
     "output_type": "stream",
     "text": [
      "[]\n",
      "[1, 2, 3]\n",
      "['I', 'have', 'a', 'dream']\n",
      "[1, 2, 'dream', 'True']\n",
      "[1, 2, ['Dream', 'true']]\n",
      "['Dream', 'true']\n",
      "Dream\n"
     ]
    }
   ],
   "source": [
    "print(var01)\n",
    "print(var02)\n",
    "print(var03)\n",
    "print(var04)\n",
    "print(var05)\n",
    "\n",
    "print(var05[2]) # 결과는 ['Dream', 'true']\n",
    "print(var05[2][0]) # 결과는 Dream"
   ]
  },
  {
   "cell_type": "code",
   "execution_count": 11,
   "id": "e9057ab9",
   "metadata": {},
   "outputs": [
    {
     "data": {
      "text/plain": [
       "3"
      ]
     },
     "execution_count": 11,
     "metadata": {},
     "output_type": "execute_result"
    }
   ],
   "source": [
    "# 리스트의 계산\n",
    "var02[0] + var02[1] # 1+2"
   ]
  },
  {
   "cell_type": "code",
   "execution_count": 32,
   "id": "c6905071",
   "metadata": {},
   "outputs": [
    {
     "name": "stdout",
     "output_type": "stream",
     "text": [
      "Dream\n",
      "Dream\n",
      "['a', 'b', ['Dream', 'True']]\n",
      "['Dream', 'True']\n"
     ]
    }
   ],
   "source": [
    "# 3중 리스트에서 indexing에서 Dream만 출력하기\n",
    "var = [1, 2, ['a', 'b', ['Dream', \"True\"]]]\n",
    "\n",
    "print(var[-1][-1][-2])\n",
    "print(var[-1][-1][0])\n",
    "print(var[-1]) # 결과는 ['a', 'b', ['Dream', 'True']]\n",
    "print(var[-1][-1]) # 결과는 ['Dream', 'True']"
   ]
  },
  {
   "cell_type": "code",
   "execution_count": 34,
   "id": "b794bcb9",
   "metadata": {},
   "outputs": [
    {
     "name": "stdout",
     "output_type": "stream",
     "text": [
      "[['a', 'b', ['Dream', 'True']]]\n"
     ]
    }
   ],
   "source": [
    "print(var[2:]) # 결과는 [['a', 'b', ['Dream', 'True']]]"
   ]
  },
  {
   "cell_type": "markdown",
   "id": "b0689acb",
   "metadata": {},
   "source": [
    "## 리스트 연산"
   ]
  },
  {
   "cell_type": "code",
   "execution_count": 35,
   "id": "2c79e216",
   "metadata": {},
   "outputs": [
    {
     "data": {
      "text/plain": [
       "[1, 2, 3, 4, 5, 6]"
      ]
     },
     "execution_count": 35,
     "metadata": {},
     "output_type": "execute_result"
    }
   ],
   "source": [
    "# 리스트의 숫자 합치기\n",
    "var01 = [1,2,3]\n",
    "var02 = [4,5,6]\n",
    "var01 + var02 # 결과는 [1, 2, 3, 4, 5, 6]"
   ]
  },
  {
   "cell_type": "code",
   "execution_count": 41,
   "id": "56377fe3",
   "metadata": {},
   "outputs": [
    {
     "name": "stdout",
     "output_type": "stream",
     "text": [
      "5\n",
      "7\n",
      "9\n"
     ]
    }
   ],
   "source": [
    "# 리스트의 덧셈\n",
    "for i in range(0, 3):\n",
    "    print(var01[i]+var02[i])"
   ]
  },
  {
   "cell_type": "code",
   "execution_count": 42,
   "id": "8da2e263",
   "metadata": {},
   "outputs": [
    {
     "data": {
      "text/plain": [
       "[1, 2, 3, 1, 2, 3, 1, 2, 3]"
      ]
     },
     "execution_count": 42,
     "metadata": {},
     "output_type": "execute_result"
    }
   ],
   "source": [
    "# 리스트의 숫자 반복\n",
    "var01 * 3 # 결과는 [1, 2, 3, 1, 2, 3, 1, 2, 3]"
   ]
  },
  {
   "cell_type": "code",
   "execution_count": 60,
   "id": "602fc3c1",
   "metadata": {},
   "outputs": [
    {
     "name": "stdout",
     "output_type": "stream",
     "text": [
      "10\n",
      "20\n",
      "30\n"
     ]
    }
   ],
   "source": [
    "# 리스트의 곱셈\n",
    "# var01의 data를 10배 계산하여 출력하기\n",
    "# 10\n",
    "# 20\n",
    "# 30\n",
    "\n",
    "for i in var01:\n",
    "    print(i*10)"
   ]
  },
  {
   "cell_type": "code",
   "execution_count": 53,
   "id": "81645270",
   "metadata": {},
   "outputs": [
    {
     "name": "stdout",
     "output_type": "stream",
     "text": [
      "3hi\n"
     ]
    }
   ],
   "source": [
    "# 리스트의 타입 변환\n",
    "var = [1,2,3]\n",
    "print(str(var[2]) + \"hi\") # 결과는 3hi"
   ]
  },
  {
   "cell_type": "code",
   "execution_count": 2,
   "id": "803872ee",
   "metadata": {},
   "outputs": [
    {
     "data": {
      "text/plain": [
       "123"
      ]
     },
     "execution_count": 2,
     "metadata": {},
     "output_type": "execute_result"
    }
   ],
   "source": [
    "temp = '123'\n",
    "temp1 = int(temp) # 문자열 -> int로\n",
    "temp1"
   ]
  },
  {
   "cell_type": "markdown",
   "id": "23abab21",
   "metadata": {},
   "source": [
    "## 리스트의 수정과 삭제"
   ]
  },
  {
   "cell_type": "code",
   "execution_count": 73,
   "id": "62218edf",
   "metadata": {},
   "outputs": [
    {
     "data": {
      "text/plain": [
       "[1, 2, 4]"
      ]
     },
     "execution_count": 73,
     "metadata": {},
     "output_type": "execute_result"
    }
   ],
   "source": [
    "var = [1,2,3]\n",
    "var[2] = 4\n",
    "var # 결과는 [1, 2, 4]"
   ]
  },
  {
   "cell_type": "code",
   "execution_count": 74,
   "id": "4b249a3a",
   "metadata": {},
   "outputs": [
    {
     "data": {
      "text/plain": [
       "[1, 'a', 'b', 'c', 4]"
      ]
     },
     "execution_count": 74,
     "metadata": {},
     "output_type": "execute_result"
    }
   ],
   "source": [
    "# 리스트의 수정\n",
    "var[1:2] = ['a', 'b', 'c']\n",
    "var # 결과는 [1, 'a', 'b', 'c', 4]"
   ]
  },
  {
   "cell_type": "code",
   "execution_count": 77,
   "id": "c30bc5b5",
   "metadata": {},
   "outputs": [
    {
     "data": {
      "text/plain": [
       "[1]"
      ]
     },
     "execution_count": 77,
     "metadata": {},
     "output_type": "execute_result"
    }
   ],
   "source": [
    "# 1-2번지의 데이터를 지우기\n",
    "var[1:3] = [] # 결과는 [1, 'c', 4]\n",
    "print(var)\n",
    "\n",
    "# 삭제는\n",
    "del var[1:3]\n",
    "print(var) # 결과는 [1]"
   ]
  },
  {
   "cell_type": "code",
   "execution_count": 80,
   "id": "87704f42",
   "metadata": {},
   "outputs": [
    {
     "data": {
      "text/plain": [
       "[1, 2, 3, 4]"
      ]
     },
     "execution_count": 80,
     "metadata": {},
     "output_type": "execute_result"
    }
   ],
   "source": [
    "# 리스트에 요소 추가\n",
    "var = [1,2,3]\n",
    "var.append(4) # 결과는 [1, 2, 3, 4]\n",
    "var"
   ]
  },
  {
   "cell_type": "code",
   "execution_count": 82,
   "id": "813f8a28",
   "metadata": {},
   "outputs": [
    {
     "data": {
      "text/plain": [
       "[1, 2, 3, 4, [5, 6], [5, 6]]"
      ]
     },
     "execution_count": 82,
     "metadata": {},
     "output_type": "execute_result"
    }
   ],
   "source": [
    "var.append([5,6])\n",
    "var # 결과는 [1, 2, 3, 4, [5, 6]]"
   ]
  },
  {
   "cell_type": "code",
   "execution_count": 92,
   "id": "3a55dd90",
   "metadata": {
    "scrolled": true
   },
   "outputs": [
    {
     "name": "stdout",
     "output_type": "stream",
     "text": [
      "[1, 4, 3, 2]\n",
      "[1, 2, 3, 4]\n",
      "[4, 3, 2, 1]\n",
      "4\n",
      "4\n",
      "1\n"
     ]
    }
   ],
   "source": [
    "# 리스트의 정렬\n",
    "var = [1,4,3,2]\n",
    "print(var) # 결과는 [1, 4, 3, 2]\n",
    "\n",
    "# 오름차순\n",
    "var.sort() \n",
    "print(var) # 결과는 [1, 2, 3, 4]\n",
    "\n",
    "# 내림차순\n",
    "var.reverse()\n",
    "print(var) # 결과는 [4, 3, 2, 1]\n",
    "print(var[0]) # 결과는 4\n",
    "\n",
    "print(max(var)) # 최대값 4\n",
    "print(min(var)) # 최소값 1"
   ]
  },
  {
   "cell_type": "code",
   "execution_count": 99,
   "id": "ff91592b",
   "metadata": {},
   "outputs": [
    {
     "name": "stdout",
     "output_type": "stream",
     "text": [
      "['국', '대', '민', '한']\n",
      "None\n",
      "['한', '민', '대', '국']\n"
     ]
    }
   ],
   "source": [
    "# 리스트 문자 정렬 (한글)\n",
    "var = ['대', '한', '민', '국']\n",
    "\n",
    "# 오름차순\n",
    "var.sort()\n",
    "print(var) # 결과는 ['국', '대', '민', '한']\n",
    "print(var.sort()) # 결과는 None\n",
    "\n",
    "# 내림차순\n",
    "var.reverse()\n",
    "print(var) # 결과는 ['한', '민', '대', '국']"
   ]
  },
  {
   "cell_type": "code",
   "execution_count": 100,
   "id": "72190fdc",
   "metadata": {},
   "outputs": [
    {
     "data": {
      "text/plain": [
       "1"
      ]
     },
     "execution_count": 100,
     "metadata": {},
     "output_type": "execute_result"
    }
   ],
   "source": [
    "# 리스트의 위치 정보\n",
    "var = [4,5,6]\n",
    "var.index(5) # 결과는 1(번지에 있음)"
   ]
  },
  {
   "cell_type": "code",
   "execution_count": 101,
   "id": "0c5b8341",
   "metadata": {},
   "outputs": [
    {
     "data": {
      "text/plain": [
       "[4, 1, 2, 3]"
      ]
     },
     "execution_count": 101,
     "metadata": {},
     "output_type": "execute_result"
    }
   ],
   "source": [
    "# 리스트의 요소 삽입\n",
    "var = [1,2,3]\n",
    "var.insert(0, 4) # 0번지에 4를 삽입\n",
    "var"
   ]
  },
  {
   "cell_type": "code",
   "execution_count": 102,
   "id": "ddc461d8",
   "metadata": {},
   "outputs": [
    {
     "data": {
      "text/plain": [
       "[1, 2, 3, 5, 6]"
      ]
     },
     "execution_count": 102,
     "metadata": {},
     "output_type": "execute_result"
    }
   ],
   "source": [
    "# 리스트에 요소 제거\n",
    "var = [1,2,3,4,5,6]\n",
    "\n",
    "# 데이터(요소)가 4인 것을 제거\n",
    "var.remove(4)\n",
    "var # 결과는 [1, 2, 3, 5, 6]"
   ]
  },
  {
   "cell_type": "code",
   "execution_count": 105,
   "id": "d10280bf",
   "metadata": {},
   "outputs": [
    {
     "name": "stdout",
     "output_type": "stream",
     "text": [
      "3\n",
      "[1, 2]\n",
      "2\n",
      "[1]\n"
     ]
    }
   ],
   "source": [
    "# 리스트 요소 추출하기\n",
    "var = [1,2,3]\n",
    "print(var.pop()) # 결과는 3\n",
    "print(var) # 결과는 [1, 2]\n",
    "print(var.pop()) # 결과는 2\n",
    "print(var) # 결과는 [1]"
   ]
  },
  {
   "cell_type": "code",
   "execution_count": 106,
   "id": "58317848",
   "metadata": {},
   "outputs": [
    {
     "name": "stdout",
     "output_type": "stream",
     "text": [
      "3\n",
      "2\n",
      "1\n",
      "[]\n"
     ]
    }
   ],
   "source": [
    "# for문을 사용한 pop\n",
    "var = [1,2,3]\n",
    "for i in range(0, 3):\n",
    "    print(var.pop())\n",
    "    \n",
    "print(var)\n",
    "\n",
    "# 3\n",
    "# 2\n",
    "# 1\n",
    "# []"
   ]
  },
  {
   "cell_type": "code",
   "execution_count": 107,
   "id": "77a12b05",
   "metadata": {},
   "outputs": [
    {
     "data": {
      "text/plain": [
       "[1, 2, 3, 4, 5, 6]"
      ]
     },
     "execution_count": 107,
     "metadata": {},
     "output_type": "execute_result"
    }
   ],
   "source": [
    "# 리스트의 확장\n",
    "var = [1,2,3,4]\n",
    "var1 = [5,6]\n",
    "var.extend(var1) # 결과는 [1, 2, 3, 4, 5, 6]\n",
    "# var + var1과 같음"
   ]
  },
  {
   "cell_type": "code",
   "execution_count": null,
   "id": "0a6360cc",
   "metadata": {},
   "outputs": [],
   "source": []
  }
 ],
 "metadata": {
  "kernelspec": {
   "display_name": "Python 3",
   "language": "python",
   "name": "python3"
  },
  "language_info": {
   "codemirror_mode": {
    "name": "ipython",
    "version": 3
   },
   "file_extension": ".py",
   "mimetype": "text/x-python",
   "name": "python",
   "nbconvert_exporter": "python",
   "pygments_lexer": "ipython3",
   "version": "3.8.8"
  }
 },
 "nbformat": 4,
 "nbformat_minor": 5
}
