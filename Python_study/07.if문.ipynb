{
 "cells": [
  {
   "cell_type": "code",
   "execution_count": 1,
   "id": "fbb48bba",
   "metadata": {},
   "outputs": [],
   "source": [
    "from random import randint"
   ]
  },
  {
   "cell_type": "code",
   "execution_count": 6,
   "id": "ca37d400",
   "metadata": {},
   "outputs": [
    {
     "name": "stdout",
     "output_type": "stream",
     "text": [
      "91 is greater than 50\n",
      "---end---\n"
     ]
    }
   ],
   "source": [
    "# if\n",
    "x = randint(1, 100)\n",
    "\n",
    "if x > 50 :\n",
    "    print(str(x), \"is greater than 50\")\n",
    "    \n",
    "print(\"---end---\")"
   ]
  },
  {
   "cell_type": "code",
   "execution_count": 11,
   "id": "666e144d",
   "metadata": {},
   "outputs": [
    {
     "name": "stdout",
     "output_type": "stream",
     "text": [
      "70 is greater than 50\n",
      "---end---\n"
     ]
    }
   ],
   "source": [
    "# if else\n",
    "x = randint(1, 100)\n",
    "\n",
    "if x > 50 :\n",
    "    print(str(x), \"is greater than 50\")\n",
    "else:\n",
    "    print(str(x), \"is less or equal to 50\")\n",
    "    \n",
    "print(\"---end---\")"
   ]
  },
  {
   "cell_type": "code",
   "execution_count": 55,
   "id": "b37559bd",
   "metadata": {},
   "outputs": [
    {
     "name": "stdout",
     "output_type": "stream",
     "text": [
      "98 is greater than 50\n",
      "---end---\n"
     ]
    }
   ],
   "source": [
    "# if elif else\n",
    "x = randint(1, 100)\n",
    "\n",
    "if x > 50 :\n",
    "    print(str(x), \"is greater than 50\")\n",
    "elif x == 50 :\n",
    "    print(str(x), \"is equal to 50\")\n",
    "else :\n",
    "    print(str(x), \"is less to 50\")\n",
    "    \n",
    "print(\"---end---\")"
   ]
  },
  {
   "cell_type": "code",
   "execution_count": 58,
   "id": "f39c4806",
   "metadata": {},
   "outputs": [
    {
     "name": "stdout",
     "output_type": "stream",
     "text": [
      "숫자를 입력하세요12\n"
     ]
    },
    {
     "data": {
      "text/plain": [
       "int"
      ]
     },
     "execution_count": 58,
     "metadata": {},
     "output_type": "execute_result"
    }
   ],
   "source": [
    "type(int(input(\"숫자를 입력하세요\")))"
   ]
  },
  {
   "cell_type": "code",
   "execution_count": 1,
   "id": "04a8d1f6",
   "metadata": {},
   "outputs": [
    {
     "name": "stdout",
     "output_type": "stream",
     "text": [
      "숫자를 입력하세요10\n",
      "10는 짝수 입니다.\n"
     ]
    }
   ],
   "source": [
    "# 사용자로부터 숫자를 입력받아 홀짝수 구분하기\n",
    "# 예:) 23은 홀수 입니다.\n",
    "x = int(input(\"숫자를 입력하세요\"))\n",
    "x\n",
    "type(x)\n",
    "\n",
    "# print는 같은 자료형만 출력 가능\n",
    "if x % 2 == 1 :\n",
    "    print(str(x) + \"는 홀수 입니다.\")\n",
    "else :\n",
    "    print(str(x) + \"는 짝수 입니다.\")"
   ]
  },
  {
   "cell_type": "code",
   "execution_count": 85,
   "id": "c30e6c72",
   "metadata": {},
   "outputs": [
    {
     "name": "stdout",
     "output_type": "stream",
     "text": [
      "숫자를 입력하세요90\n",
      "정수는 90이고, A학점입니다.\n"
     ]
    }
   ],
   "source": [
    "# 사용자로부터 정수를 입력받아 학점 등급을 계산하여 출력하기\n",
    "# 예:) 정수는 89점이고, B+학점 입니다.\n",
    "\n",
    "x = int(input(\"숫자를 입력하세요\"))\n",
    "x\n",
    "type(x)\n",
    "\n",
    "if (x // 10 == 10) | (x // 10 == 9) :\n",
    "    print(\"정수는\", str(x) + \"이고, A학점입니다.\")\n",
    "elif x // 10 == 8 :\n",
    "    print(\"정수는\", str(x) + \"이고, B학점입니다.\")\n",
    "elif x // 10 == 7 :\n",
    "    print(\"정수는\", str(x) + \"이고, C학점입니다.\")\n",
    "elif x // 10 == 6 :\n",
    "    print(\"정수는\", str(x) + \"이고, D학점입니다.\")\n",
    "else :\n",
    "    print(\"정수는\", str(x) + \"이고, F학점입니다.\")"
   ]
  },
  {
   "cell_type": "code",
   "execution_count": 99,
   "id": "ad24ff3a",
   "metadata": {},
   "outputs": [
    {
     "name": "stdout",
     "output_type": "stream",
     "text": [
      "숫자를 입력하세요1\n",
      "정수는 1이고, F학점입니다.\n"
     ]
    }
   ],
   "source": [
    "# 사용자로부터 정수를 입력받아 학점 등급을 계산하여 출력하기\n",
    "# 예:) 정수는 89점이고, B+학점 입니다.\n",
    "\n",
    "x = int(input(\"숫자를 입력하세요\"))\n",
    "x\n",
    "type(x)\n",
    "\n",
    "if (x < 0) | (x > 100):\n",
    "    print(\"올바른 값을 입력해주세요\")\n",
    "elif (x == 100) | (x >= 90) :\n",
    "    print(\"정수는\", str(x) + \"이고, A학점입니다.\")\n",
    "elif x >= 80 :\n",
    "    print(\"정수는\", str(x) + \"이고, B학점입니다.\")\n",
    "elif x >= 70 :\n",
    "    print(\"정수는\", str(x) + \"이고, C학점입니다.\")\n",
    "elif x >= 60 :\n",
    "    print(\"정수는\", str(x) + \"이고, D학점입니다.\")\n",
    "elif x < 60:\n",
    "    print(\"정수는\", str(x) + \"이고, F학점입니다.\")\n",
    "    "
   ]
  },
  {
   "cell_type": "code",
   "execution_count": 2,
   "id": "4a9d10e7",
   "metadata": {},
   "outputs": [
    {
     "name": "stdout",
     "output_type": "stream",
     "text": [
      "<class 'list'>\n",
      "<class 'int'>\n"
     ]
    }
   ],
   "source": [
    "pocket = ['paper', 'smartphone']\n",
    "card = 1\n",
    "\n",
    "print(type(pocket))\n",
    "print(type(card))"
   ]
  },
  {
   "cell_type": "code",
   "execution_count": 12,
   "id": "6c0a5956",
   "metadata": {},
   "outputs": [
    {
     "name": "stdout",
     "output_type": "stream",
     "text": [
      "신용카드로 택시 타기\n"
     ]
    }
   ],
   "source": [
    "pocket = ['paper', 'smartphone']\n",
    "card = 9\n",
    "\n",
    "if 'money' in pocket:\n",
    "    print('현금으로 택시 타기')\n",
    "elif card:\n",
    "    print('신용카드로 택시 타기')\n",
    "else:\n",
    "    print('튼튼한 다리를 사용!')\n",
    "    \n",
    "# 파이썬에서는 0 = false\n",
    "# card = 0, 결과는 튼튼한 다리를 사용!(false==0)\n",
    "# card = 1, 결과는 신용카드로 택시 타기(true)\n",
    "# card = 4, 결과는 신용카드로 택시 타기(true)\n",
    "\n",
    "# pocket list의 값에 'money'를 넣어주면, 결과는 현금으로 택시 타기"
   ]
  },
  {
   "cell_type": "code",
   "execution_count": null,
   "id": "713b71e2",
   "metadata": {},
   "outputs": [],
   "source": []
  },
  {
   "cell_type": "code",
   "execution_count": null,
   "id": "d672d9bf",
   "metadata": {},
   "outputs": [],
   "source": []
  },
  {
   "cell_type": "code",
   "execution_count": null,
   "id": "3c951515",
   "metadata": {},
   "outputs": [],
   "source": []
  },
  {
   "cell_type": "code",
   "execution_count": null,
   "id": "6f338154",
   "metadata": {},
   "outputs": [],
   "source": []
  }
 ],
 "metadata": {
  "kernelspec": {
   "display_name": "Python 3",
   "language": "python",
   "name": "python3"
  },
  "language_info": {
   "codemirror_mode": {
    "name": "ipython",
    "version": 3
   },
   "file_extension": ".py",
   "mimetype": "text/x-python",
   "name": "python",
   "nbconvert_exporter": "python",
   "pygments_lexer": "ipython3",
   "version": "3.8.8"
  }
 },
 "nbformat": 4,
 "nbformat_minor": 5
}
