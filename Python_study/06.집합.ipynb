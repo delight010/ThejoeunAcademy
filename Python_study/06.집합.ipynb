{
 "cells": [
  {
   "cell_type": "markdown",
   "id": "6d482b8d",
   "metadata": {},
   "source": [
    "# 집합(Set)"
   ]
  },
  {
   "cell_type": "code",
   "execution_count": 2,
   "id": "99bcbbe2",
   "metadata": {},
   "outputs": [
    {
     "name": "stdout",
     "output_type": "stream",
     "text": [
      "{1, 2, 3, 4, 5}\n",
      "{4, 5, 6, 7, 8, 9}\n"
     ]
    }
   ],
   "source": [
    "# 집합 정의 \n",
    "# 중복된 값은 들어갈 수 없다.\n",
    "a1 = set([1,2,3,4,5,5,5,5,5])\n",
    "a1 # 결과는 {1, 2, 3, 4, 5}\n",
    "\n",
    "s1 = set([1,2,3,4,5])\n",
    "s2 = set([4,5,6,7,8,9])\n",
    "print(s1)\n",
    "print(s2)"
   ]
  },
  {
   "cell_type": "code",
   "execution_count": 3,
   "id": "37096aca",
   "metadata": {},
   "outputs": [
    {
     "name": "stdout",
     "output_type": "stream",
     "text": [
      "{4, 5}\n",
      "{4, 5}\n"
     ]
    }
   ],
   "source": [
    "# 교집합\n",
    "print(s1 & s2) # 결과는 {4, 5}\n",
    "print(s1.intersection(s2)) # 결과는 {4, 5}"
   ]
  },
  {
   "cell_type": "code",
   "execution_count": 5,
   "id": "d0273de8",
   "metadata": {},
   "outputs": [
    {
     "name": "stdout",
     "output_type": "stream",
     "text": [
      "{1, 2, 3, 4, 5, 6, 7, 8, 9}\n",
      "{1, 2, 3, 4, 5, 6, 7, 8, 9}\n"
     ]
    }
   ],
   "source": [
    "# 합집합\n",
    "print(s1 | s2) # 결과는 {1, 2, 3, 4, 5, 6, 7, 8, 9}\n",
    "print(s1.union(s2)) # 결과는 {1, 2, 3, 4, 5, 6, 7, 8, 9}"
   ]
  },
  {
   "cell_type": "code",
   "execution_count": 7,
   "id": "aa423286",
   "metadata": {},
   "outputs": [
    {
     "name": "stdout",
     "output_type": "stream",
     "text": [
      "{1, 2, 3}\n",
      "{1, 2, 3}\n"
     ]
    }
   ],
   "source": [
    "# 차집합\n",
    "print(s1 - s2) # 결과는 {1, 2, 3}\n",
    "print(s1.difference(s2)) # 결과는 {1, 2, 3}"
   ]
  },
  {
   "cell_type": "code",
   "execution_count": 14,
   "id": "cc134d23",
   "metadata": {},
   "outputs": [
    {
     "data": {
      "text/plain": [
       "{1, 2, 3, 4, 5, 7, 10, 20, 30, 40}"
      ]
     },
     "execution_count": 14,
     "metadata": {},
     "output_type": "execute_result"
    }
   ],
   "source": [
    "# 값 1개 추가\n",
    "s1.add(4) # 결과는 {1, 2, 3, 4, 5}\n",
    "s1\n",
    "s1.add(7) # 결과는 {1, 2, 3, 4, 5, 7}\n",
    "s1\n",
    "s1.add(10) # 결과는 {1, 2, 3, 4, 5, 7, 10}\n",
    "s1"
   ]
  },
  {
   "cell_type": "code",
   "execution_count": 15,
   "id": "6ff2892f",
   "metadata": {},
   "outputs": [
    {
     "data": {
      "text/plain": [
       "{1, 2, 3, 4, 5, 7, 10, 20, 30, 40}"
      ]
     },
     "execution_count": 15,
     "metadata": {},
     "output_type": "execute_result"
    }
   ],
   "source": [
    "# 값 여러개 추가\n",
    "s1.update([20,30,40])\n",
    "s1 # 결과는 {1, 2, 3, 4, 5, 7, 10, 20, 30, 40}"
   ]
  },
  {
   "cell_type": "code",
   "execution_count": 16,
   "id": "9b4f3ee1",
   "metadata": {},
   "outputs": [
    {
     "data": {
      "text/plain": [
       "{1, 2, 3, 4, 5, 7, 20, 30, 40}"
      ]
     },
     "execution_count": 16,
     "metadata": {},
     "output_type": "execute_result"
    }
   ],
   "source": [
    "# 특정값 제거\n",
    "s1.remove(10)\n",
    "s1 # 결과는 {1, 2, 3, 4, 5, 7, 20, 30, 40}"
   ]
  },
  {
   "cell_type": "code",
   "execution_count": null,
   "id": "58444abf",
   "metadata": {},
   "outputs": [],
   "source": []
  }
 ],
 "metadata": {
  "kernelspec": {
   "display_name": "Python 3",
   "language": "python",
   "name": "python3"
  },
  "language_info": {
   "codemirror_mode": {
    "name": "ipython",
    "version": 3
   },
   "file_extension": ".py",
   "mimetype": "text/x-python",
   "name": "python",
   "nbconvert_exporter": "python",
   "pygments_lexer": "ipython3",
   "version": "3.8.8"
  }
 },
 "nbformat": 4,
 "nbformat_minor": 5
}
