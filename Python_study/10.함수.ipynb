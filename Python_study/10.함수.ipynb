{
 "cells": [
  {
   "cell_type": "markdown",
   "id": "03965271",
   "metadata": {},
   "source": [
    "# numpy 내장함수"
   ]
  },
  {
   "cell_type": "code",
   "execution_count": 7,
   "id": "99eecd31",
   "metadata": {},
   "outputs": [],
   "source": [
    "import numpy as np"
   ]
  },
  {
   "cell_type": "code",
   "execution_count": 3,
   "id": "91f8cc2d",
   "metadata": {},
   "outputs": [
    {
     "data": {
      "text/plain": [
       "5.5"
      ]
     },
     "execution_count": 3,
     "metadata": {},
     "output_type": "execute_result"
    }
   ],
   "source": [
    "# 평균 구하기\n",
    "np.mean(range(1,11))\n",
    "# 1~10까지의 평균은 5.5"
   ]
  },
  {
   "cell_type": "code",
   "execution_count": 5,
   "id": "618c65fb",
   "metadata": {},
   "outputs": [
    {
     "data": {
      "text/plain": [
       "55"
      ]
     },
     "execution_count": 5,
     "metadata": {},
     "output_type": "execute_result"
    }
   ],
   "source": [
    "# 합계 구하기\n",
    "np.sum(range(1,11))\n",
    "# 1~10까지의 합계는 55"
   ]
  },
  {
   "cell_type": "code",
   "execution_count": 6,
   "id": "f8b0af96",
   "metadata": {},
   "outputs": [
    {
     "data": {
      "text/plain": [
       "2.8722813232690143"
      ]
     },
     "execution_count": 6,
     "metadata": {},
     "output_type": "execute_result"
    }
   ],
   "source": [
    "# 표준편차 구하기\n",
    "np.std(range(1,11))\n",
    "# 1~10까지의 표준편차는 2.8722813232690143"
   ]
  },
  {
   "cell_type": "code",
   "execution_count": 10,
   "id": "caf2015e",
   "metadata": {},
   "outputs": [
    {
     "data": {
      "text/plain": [
       "10"
      ]
     },
     "execution_count": 10,
     "metadata": {},
     "output_type": "execute_result"
    }
   ],
   "source": [
    "# 최대값 구하기\n",
    "np.max(range(1,11))\n",
    "# 결과는 10"
   ]
  },
  {
   "cell_type": "code",
   "execution_count": 11,
   "id": "a3ce2c4f",
   "metadata": {},
   "outputs": [
    {
     "data": {
      "text/plain": [
       "1"
      ]
     },
     "execution_count": 11,
     "metadata": {},
     "output_type": "execute_result"
    }
   ],
   "source": [
    "# 최소값 구하기\n",
    "np.min(range(1,11))\n",
    "# 결과는 1"
   ]
  },
  {
   "cell_type": "code",
   "execution_count": 12,
   "id": "ba156d45",
   "metadata": {},
   "outputs": [
    {
     "data": {
      "text/plain": [
       "5.5"
      ]
     },
     "execution_count": 12,
     "metadata": {},
     "output_type": "execute_result"
    }
   ],
   "source": [
    "# 중앙값 구하기\n",
    "np.median(range(1,11))\n",
    "# 결과는 5.5"
   ]
  },
  {
   "cell_type": "markdown",
   "id": "56a6e976",
   "metadata": {},
   "source": [
    "# 사용자 정의 함수"
   ]
  },
  {
   "cell_type": "code",
   "execution_count": 13,
   "id": "7746edbb",
   "metadata": {},
   "outputs": [],
   "source": [
    "# 매개변수가 없는 함수\n",
    "def hiF():\n",
    "    return \"HI\""
   ]
  },
  {
   "cell_type": "code",
   "execution_count": 15,
   "id": "b9d44d68",
   "metadata": {},
   "outputs": [
    {
     "name": "stdout",
     "output_type": "stream",
     "text": [
      "HI\n"
     ]
    }
   ],
   "source": [
    "var = hiF()\n",
    "print(var)\n",
    "# 결과는 HI"
   ]
  },
  {
   "cell_type": "code",
   "execution_count": 23,
   "id": "5af8d385",
   "metadata": {},
   "outputs": [],
   "source": [
    "# 매개변수가 있는 함수(매개변수에는 list, range가 들어갈 수 없다.)\n",
    "def test(x, y):\n",
    "    return x + y"
   ]
  },
  {
   "cell_type": "code",
   "execution_count": 18,
   "id": "d3cc3028",
   "metadata": {},
   "outputs": [
    {
     "data": {
      "text/plain": [
       "7"
      ]
     },
     "execution_count": 18,
     "metadata": {},
     "output_type": "execute_result"
    }
   ],
   "source": [
    "test(3, 4)\n",
    "# 결과는 7"
   ]
  },
  {
   "cell_type": "code",
   "execution_count": 19,
   "id": "41801864",
   "metadata": {},
   "outputs": [],
   "source": [
    "# 함수에 입력되는 인수가 몇개인지 모르는 경우\n",
    "\n",
    "def sumManyF(*inputValue): # 애스터리스크\n",
    "    sum1 = 0\n",
    "    for i in inputValue:\n",
    "        sum1 += i\n",
    "    return sum1"
   ]
  },
  {
   "cell_type": "code",
   "execution_count": 20,
   "id": "63fd9b55",
   "metadata": {},
   "outputs": [
    {
     "data": {
      "text/plain": [
       "6"
      ]
     },
     "execution_count": 20,
     "metadata": {},
     "output_type": "execute_result"
    }
   ],
   "source": [
    "sumManyF(1,2,3)\n",
    "# 결과는 6"
   ]
  },
  {
   "cell_type": "code",
   "execution_count": 22,
   "id": "b2c8f298",
   "metadata": {},
   "outputs": [
    {
     "data": {
      "text/plain": [
       "55"
      ]
     },
     "execution_count": 22,
     "metadata": {},
     "output_type": "execute_result"
    }
   ],
   "source": [
    "sumManyF(1,2,3,4,5,6,7,8,9,10)\n",
    "# 결과는 55"
   ]
  },
  {
   "cell_type": "code",
   "execution_count": 49,
   "id": "ed61db82",
   "metadata": {},
   "outputs": [
    {
     "data": {
      "text/plain": [
       "9"
      ]
     },
     "execution_count": 49,
     "metadata": {},
     "output_type": "execute_result"
    }
   ],
   "source": [
    "# 여러 개의 숫자를 입력받아 최대값과 최소값의 차이를 구하는 함수 만들기\n",
    "\n",
    "def sumManyF2(*inputValue):\n",
    "    numList = []\n",
    "    numList.append(inputValue)\n",
    "    max = np.max(numList)\n",
    "    min = np.min(numList)\n",
    "    result = max - min\n",
    "    return result\n",
    "\n",
    "sumManyF2(1,2,3,4,5,6,7,8,9,10)\n",
    "# 결과는 9"
   ]
  },
  {
   "cell_type": "code",
   "execution_count": 48,
   "id": "4c734926",
   "metadata": {},
   "outputs": [
    {
     "data": {
      "text/plain": [
       "9"
      ]
     },
     "execution_count": 48,
     "metadata": {},
     "output_type": "execute_result"
    }
   ],
   "source": []
  },
  {
   "cell_type": "code",
   "execution_count": 3,
   "id": "0082573f",
   "metadata": {},
   "outputs": [],
   "source": [
    "# 구구단에서 단과 곱해지는 수를 리스트로 입력하여 출력하는 함수\n",
    "\n",
    "def gugu(x, y):\n",
    "    for i in x :\n",
    "        for j in y:\n",
    "            result = print(i, 'X', j , '=' , i*j)\n",
    "        print('------------')\n",
    "    return result\n",
    "    "
   ]
  },
  {
   "cell_type": "code",
   "execution_count": 4,
   "id": "66486fef",
   "metadata": {},
   "outputs": [
    {
     "name": "stdout",
     "output_type": "stream",
     "text": [
      "2 X 6 = 12\n",
      "2 X 7 = 14\n",
      "2 X 8 = 16\n",
      "2 X 9 = 18\n",
      "------------\n",
      "5 X 6 = 30\n",
      "5 X 7 = 35\n",
      "5 X 8 = 40\n",
      "5 X 9 = 45\n",
      "------------\n",
      "8 X 6 = 48\n",
      "8 X 7 = 56\n",
      "8 X 8 = 64\n",
      "8 X 9 = 72\n",
      "------------\n"
     ]
    }
   ],
   "source": [
    "x = [2,5,8]\n",
    "y = [6,7,8,9]\n",
    "gugu(x,y)"
   ]
  },
  {
   "cell_type": "code",
   "execution_count": 19,
   "id": "f2b92e56",
   "metadata": {},
   "outputs": [],
   "source": [
    "# 덧셈 기능과 곱셈 기능을 구분하여 숫자의 결과를 보여주는 함수\n",
    "\n",
    "def sum_mulF(strValue, *number):\n",
    "    numList = []\n",
    "    \n",
    "    numList.append(number)\n",
    "    \n",
    "    if strValue == 'sum':\n",
    "        result = np.sum(numList)\n",
    "    elif strValue == 'mul':\n",
    "        result = np.prod(numList)\n",
    "    elif strValue == 'add':\n",
    "        result = np.add(numList)      \n",
    "    else:\n",
    "        result = '==> What are you talking about?'\n",
    "    return result"
   ]
  },
  {
   "cell_type": "code",
   "execution_count": 23,
   "id": "ac381684",
   "metadata": {},
   "outputs": [
    {
     "name": "stdout",
     "output_type": "stream",
     "text": [
      "15\n"
     ]
    }
   ],
   "source": [
    "result = sum_mulF('sum', 1,2,3,4,5)\n",
    "print(result)\n",
    "\n",
    "# 결과는 15"
   ]
  },
  {
   "cell_type": "code",
   "execution_count": 24,
   "id": "5edac50c",
   "metadata": {},
   "outputs": [
    {
     "name": "stdout",
     "output_type": "stream",
     "text": [
      "120\n"
     ]
    }
   ],
   "source": [
    "result = sum_mulF('mul', 1,2,3,4,5)\n",
    "print(result)\n",
    "\n",
    "# 결과는 120"
   ]
  },
  {
   "cell_type": "code",
   "execution_count": 21,
   "id": "d02c8ddc",
   "metadata": {},
   "outputs": [
    {
     "ename": "ValueError",
     "evalue": "invalid number of arguments",
     "output_type": "error",
     "traceback": [
      "\u001b[0;31m---------------------------------------------------------------------------\u001b[0m",
      "\u001b[0;31mValueError\u001b[0m                                Traceback (most recent call last)",
      "\u001b[0;32m<ipython-input-21-ce458a879488>\u001b[0m in \u001b[0;36m<module>\u001b[0;34m\u001b[0m\n\u001b[0;32m----> 1\u001b[0;31m \u001b[0mresult\u001b[0m \u001b[0;34m=\u001b[0m \u001b[0msum_mulF\u001b[0m\u001b[0;34m(\u001b[0m\u001b[0;34m'add'\u001b[0m\u001b[0;34m,\u001b[0m \u001b[0;36m1\u001b[0m\u001b[0;34m,\u001b[0m\u001b[0;36m2\u001b[0m\u001b[0;34m,\u001b[0m\u001b[0;36m3\u001b[0m\u001b[0;34m,\u001b[0m\u001b[0;36m4\u001b[0m\u001b[0;34m,\u001b[0m\u001b[0;36m5\u001b[0m\u001b[0;34m)\u001b[0m\u001b[0;34m\u001b[0m\u001b[0;34m\u001b[0m\u001b[0m\n\u001b[0m\u001b[1;32m      2\u001b[0m \u001b[0mprint\u001b[0m\u001b[0;34m(\u001b[0m\u001b[0mresult\u001b[0m\u001b[0;34m)\u001b[0m\u001b[0;34m\u001b[0m\u001b[0;34m\u001b[0m\u001b[0m\n",
      "\u001b[0;32m<ipython-input-19-79aa8ea3f043>\u001b[0m in \u001b[0;36msum_mulF\u001b[0;34m(strValue, *number)\u001b[0m\n\u001b[1;32m     11\u001b[0m         \u001b[0mresult\u001b[0m \u001b[0;34m=\u001b[0m \u001b[0mnp\u001b[0m\u001b[0;34m.\u001b[0m\u001b[0mprod\u001b[0m\u001b[0;34m(\u001b[0m\u001b[0mnumList\u001b[0m\u001b[0;34m)\u001b[0m\u001b[0;34m\u001b[0m\u001b[0;34m\u001b[0m\u001b[0m\n\u001b[1;32m     12\u001b[0m     \u001b[0;32melif\u001b[0m \u001b[0mstrValue\u001b[0m \u001b[0;34m==\u001b[0m \u001b[0;34m'add'\u001b[0m\u001b[0;34m:\u001b[0m\u001b[0;34m\u001b[0m\u001b[0;34m\u001b[0m\u001b[0m\n\u001b[0;32m---> 13\u001b[0;31m         \u001b[0mresult\u001b[0m \u001b[0;34m=\u001b[0m \u001b[0mnp\u001b[0m\u001b[0;34m.\u001b[0m\u001b[0madd\u001b[0m\u001b[0;34m(\u001b[0m\u001b[0mnumList\u001b[0m\u001b[0;34m)\u001b[0m\u001b[0;34m\u001b[0m\u001b[0;34m\u001b[0m\u001b[0m\n\u001b[0m\u001b[1;32m     14\u001b[0m     \u001b[0;32melse\u001b[0m\u001b[0;34m:\u001b[0m\u001b[0;34m\u001b[0m\u001b[0;34m\u001b[0m\u001b[0m\n\u001b[1;32m     15\u001b[0m         \u001b[0mresult\u001b[0m \u001b[0;34m=\u001b[0m \u001b[0;34m'==> What are you talking about?'\u001b[0m\u001b[0;34m\u001b[0m\u001b[0;34m\u001b[0m\u001b[0m\n",
      "\u001b[0;31mValueError\u001b[0m: invalid number of arguments"
     ]
    }
   ],
   "source": [
    "result = sum_mulF('add', 1,2,3,4,5)\n",
    "print(result)"
   ]
  },
  {
   "cell_type": "code",
   "execution_count": 117,
   "id": "df9b59dc",
   "metadata": {},
   "outputs": [
    {
     "data": {
      "text/plain": [
       "7"
      ]
     },
     "execution_count": 117,
     "metadata": {},
     "output_type": "execute_result"
    }
   ],
   "source": [
    "def sum_mul(a, b):\n",
    "    return a + b # 맨 처음 것만 return\n",
    "    return a * b\n",
    "\n",
    "sum_mul(3, 4)\n",
    "# 결과는 7"
   ]
  },
  {
   "cell_type": "code",
   "execution_count": 119,
   "id": "026a9168",
   "metadata": {},
   "outputs": [
    {
     "data": {
      "text/plain": [
       "(7, 12)"
      ]
     },
     "execution_count": 119,
     "metadata": {},
     "output_type": "execute_result"
    }
   ],
   "source": [
    "def sum_mul(a, b):\n",
    "    return a+b, a*b\n",
    "\n",
    "sum_mul(3,4)\n",
    "# 결과는 (7, 12)"
   ]
  },
  {
   "cell_type": "code",
   "execution_count": 121,
   "id": "2f4cb8ee",
   "metadata": {},
   "outputs": [
    {
     "name": "stdout",
     "output_type": "stream",
     "text": [
      "7\n",
      "12\n"
     ]
    }
   ],
   "source": [
    "return_sum, return_mul = sum_mul(3, 4)\n",
    "print(return_sum)\n",
    "print(return_mul)\n",
    "\n",
    "# 결과는\n",
    "# 7\n",
    "# 12"
   ]
  },
  {
   "cell_type": "code",
   "execution_count": 123,
   "id": "5265eef1",
   "metadata": {},
   "outputs": [
    {
     "name": "stdout",
     "output_type": "stream",
     "text": [
      "7\n",
      "12\n"
     ]
    }
   ],
   "source": [
    "print(sum_mul(3,4)[0])\n",
    "print(sum_mul(3,4)[1])\n",
    "# 결과는\n",
    "# 7\n",
    "# 12"
   ]
  },
  {
   "cell_type": "markdown",
   "id": "567209c5",
   "metadata": {},
   "source": [
    "# 람다(lambda) 함수\n",
    "- 보통 함수를 한줄로 간결하게 만들 때 사용\n",
    "- return이 필요없다.\n",
    "- 함수명이 없는 함수"
   ]
  },
  {
   "cell_type": "code",
   "execution_count": 130,
   "id": "1913b9a6",
   "metadata": {},
   "outputs": [
    {
     "data": {
      "text/plain": [
       "30"
      ]
     },
     "execution_count": 130,
     "metadata": {},
     "output_type": "execute_result"
    }
   ],
   "source": [
    "# 일반적인 함수\n",
    "def addFunction(a, b):\n",
    "    return a + b\n",
    "\n",
    "addFunction(10, 20)"
   ]
  },
  {
   "cell_type": "code",
   "execution_count": 129,
   "id": "11593823",
   "metadata": {},
   "outputs": [
    {
     "data": {
      "text/plain": [
       "40"
      ]
     },
     "execution_count": 129,
     "metadata": {},
     "output_type": "execute_result"
    }
   ],
   "source": [
    "# 람다 함수\n",
    "addLambda = lambda a, b: a + b\n",
    "addLambda(20, 20)"
   ]
  },
  {
   "cell_type": "code",
   "execution_count": null,
   "id": "080034ab",
   "metadata": {},
   "outputs": [],
   "source": []
  },
  {
   "cell_type": "code",
   "execution_count": null,
   "id": "f4195c81",
   "metadata": {},
   "outputs": [],
   "source": []
  }
 ],
 "metadata": {
  "kernelspec": {
   "display_name": "Python 3",
   "language": "python",
   "name": "python3"
  },
  "language_info": {
   "codemirror_mode": {
    "name": "ipython",
    "version": 3
   },
   "file_extension": ".py",
   "mimetype": "text/x-python",
   "name": "python",
   "nbconvert_exporter": "python",
   "pygments_lexer": "ipython3",
   "version": "3.8.8"
  }
 },
 "nbformat": 4,
 "nbformat_minor": 5
}
