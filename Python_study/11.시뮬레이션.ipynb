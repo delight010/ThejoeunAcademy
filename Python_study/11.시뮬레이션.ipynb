{
 "cells": [
  {
   "cell_type": "markdown",
   "id": "3992a62e",
   "metadata": {},
   "source": [
    "# 몬테카를로 시뮬레이션\n",
    ": 자료가 없을 경우 난수를 통해서 가설 증명"
   ]
  },
  {
   "cell_type": "markdown",
   "id": "d3b9e19d",
   "metadata": {},
   "source": [
    "## 동전의 앞면과 뒷면이 나올 확률이 같다는 것을 증명"
   ]
  },
  {
   "cell_type": "code",
   "execution_count": 2,
   "id": "cf46d307",
   "metadata": {},
   "outputs": [],
   "source": [
    "# 모듈 불러오기\n",
    "import random"
   ]
  },
  {
   "cell_type": "code",
   "execution_count": 5,
   "id": "7be415cb",
   "metadata": {},
   "outputs": [
    {
     "data": {
      "text/plain": [
       "2"
      ]
     },
     "execution_count": 5,
     "metadata": {},
     "output_type": "execute_result"
    }
   ],
   "source": [
    "random.randint(1, 10)"
   ]
  },
  {
   "cell_type": "code",
   "execution_count": 14,
   "id": "b8f7ff6c",
   "metadata": {},
   "outputs": [
    {
     "name": "stdout",
     "output_type": "stream",
     "text": [
      "뒷면\n"
     ]
    }
   ],
   "source": [
    "# 난수를 통한 방법\n",
    "x = random.randint(1,2)\n",
    "if x == 1:\n",
    "    result = \"앞면\"\n",
    "else:\n",
    "    result = \"뒷면\"\n",
    "    \n",
    "print(result)"
   ]
  },
  {
   "cell_type": "code",
   "execution_count": 21,
   "id": "227465a5",
   "metadata": {},
   "outputs": [],
   "source": [
    "def coinF(n):\n",
    "    coinFront = coinRear = 0\n",
    "    for i in range(1, n+1):\n",
    "        x = random.randint(1, 2)\n",
    "        if x == 1:\n",
    "            coinFront += 1\n",
    "        else:\n",
    "            coinRear += 1    \n",
    "    print(\"%7d번 시도시 동전의 앞면은 %6d번이고 동전의 뒷면은 %6d번 입니다.\"%(n, coinFront, coinRear))"
   ]
  },
  {
   "cell_type": "code",
   "execution_count": 20,
   "id": "35b115dc",
   "metadata": {},
   "outputs": [
    {
     "name": "stdout",
     "output_type": "stream",
     "text": [
      "10번 시도시 동전의 앞면은 4번이고 동전의 뒷면은 6번 입니다.\n"
     ]
    }
   ],
   "source": [
    "coinF(10)"
   ]
  },
  {
   "cell_type": "code",
   "execution_count": 23,
   "id": "d060fb37",
   "metadata": {},
   "outputs": [
    {
     "name": "stdout",
     "output_type": "stream",
     "text": [
      "     10번 시도시 동전의 앞면은      6번이고 동전의 뒷면은      4번 입니다.\n",
      "    100번 시도시 동전의 앞면은     52번이고 동전의 뒷면은     48번 입니다.\n",
      "   1000번 시도시 동전의 앞면은    487번이고 동전의 뒷면은    513번 입니다.\n",
      "  10000번 시도시 동전의 앞면은   5043번이고 동전의 뒷면은   4957번 입니다.\n",
      " 100000번 시도시 동전의 앞면은  49889번이고 동전의 뒷면은  50111번 입니다.\n",
      "1000000번 시도시 동전의 앞면은 500738번이고 동전의 뒷면은 499262번 입니다.\n"
     ]
    }
   ],
   "source": [
    "coinF(10)\n",
    "coinF(100)\n",
    "coinF(1000)\n",
    "coinF(10000)\n",
    "coinF(100000)\n",
    "coinF(1000000)"
   ]
  },
  {
   "cell_type": "code",
   "execution_count": 26,
   "id": "0ad0f559",
   "metadata": {},
   "outputs": [],
   "source": [
    "# 가위, 바위, 보 게임이 이길 확률이 같다는 것을 증명\n",
    "\n",
    "def rock(n):\n",
    "    rock = scissors = paper = 0\n",
    "    for i in range(1, n+1):\n",
    "        x = random.randint(1,3)\n",
    "        if x == 1:\n",
    "            rock += 1\n",
    "        elif x == 2:\n",
    "            scissors += 1\n",
    "        else:\n",
    "            paper += 1\n",
    "    print('%7d번 시도 시 바위는 %6d번이고 가위는 %6d번이며 보는 %6d번입니다.'%(n, rock, scissors, paper))"
   ]
  },
  {
   "cell_type": "code",
   "execution_count": 27,
   "id": "d9d15482",
   "metadata": {},
   "outputs": [
    {
     "name": "stdout",
     "output_type": "stream",
     "text": [
      "     10번 시도 시 바위는      3번이고 가위는      6번이며 보는      1번입니다.\n",
      "    100번 시도 시 바위는     32번이고 가위는     36번이며 보는     32번입니다.\n",
      "   1000번 시도 시 바위는    326번이고 가위는    334번이며 보는    340번입니다.\n",
      "  10000번 시도 시 바위는   3472번이고 가위는   3248번이며 보는   3280번입니다.\n",
      " 100000번 시도 시 바위는  33483번이고 가위는  33378번이며 보는  33139번입니다.\n"
     ]
    }
   ],
   "source": [
    "rock(10)\n",
    "rock(100)\n",
    "rock(1000)\n",
    "rock(10000)\n",
    "rock(100000)"
   ]
  },
  {
   "cell_type": "code",
   "execution_count": null,
   "id": "5ae6fb29",
   "metadata": {},
   "outputs": [],
   "source": []
  }
 ],
 "metadata": {
  "kernelspec": {
   "display_name": "Python 3",
   "language": "python",
   "name": "python3"
  },
  "language_info": {
   "codemirror_mode": {
    "name": "ipython",
    "version": 3
   },
   "file_extension": ".py",
   "mimetype": "text/x-python",
   "name": "python",
   "nbconvert_exporter": "python",
   "pygments_lexer": "ipython3",
   "version": "3.8.8"
  }
 },
 "nbformat": 4,
 "nbformat_minor": 5
}
